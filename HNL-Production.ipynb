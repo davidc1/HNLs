{
 "cells": [
  {
   "cell_type": "code",
   "execution_count": null,
   "metadata": {},
   "outputs": [],
   "source": [
    "%load_ext autoreload\n",
    "%autoreload 2\n",
    "\n",
    "from math import pi\n",
    "from glob import glob\n",
    "\n",
    "import numpy as np\n",
    "import matplotlib.pyplot as plt\n",
    "\n",
    "import uproot\n",
    "import pandas"
   ]
  },
  {
   "cell_type": "code",
   "execution_count": null,
   "metadata": {},
   "outputs": [],
   "source": [
    "from matplotlib.colors import LogNorm"
   ]
  },
  {
   "cell_type": "code",
   "execution_count": null,
   "metadata": {},
   "outputs": [],
   "source": [
    "plt.rcParams.update({'font.size': 18})"
   ]
  },
  {
   "cell_type": "code",
   "execution_count": null,
   "metadata": {},
   "outputs": [],
   "source": [
    "import scipy.signal"
   ]
  },
  {
   "cell_type": "code",
   "execution_count": null,
   "metadata": {},
   "outputs": [],
   "source": [
    "def GAMMA(MASS,KE):\n",
    "    return (MASS+KE) / MASS\n",
    "def BETA(gamma):\n",
    "    return np.sqrt((gamma**2-1)/gamma**2)"
   ]
  },
  {
   "cell_type": "code",
   "execution_count": null,
   "metadata": {},
   "outputs": [],
   "source": [
    "# Constants\n",
    "\n",
    "KAON_MASS = 493.677 # MeV\n",
    "PION_MASS = 139.57  # MeV\n",
    "MUON_MASS = 105.658 # MeV\n",
    "ELEC_MASS = 0.511   # MeV"
   ]
  },
  {
   "cell_type": "code",
   "execution_count": null,
   "metadata": {},
   "outputs": [],
   "source": [
    "# load neutrino flux from MicroBooNE"
   ]
  },
  {
   "cell_type": "code",
   "execution_count": null,
   "metadata": {},
   "outputs": [],
   "source": [
    "flux_data = np.loadtxt('MicroBooNE_Flux_Pions_Kaons.csv',skiprows=2,delimiter=',')"
   ]
  },
  {
   "cell_type": "code",
   "execution_count": null,
   "metadata": {},
   "outputs": [],
   "source": [
    "# flux in units of neutrinos / POT / GeV / cm2\n",
    "kaon_flux = []\n",
    "pion_flux = []\n",
    "for flux_row in flux_data:\n",
    "    kaon_f = flux_row[1]\n",
    "    pion_f = flux_row[3]\n",
    "    kaon_flux.append(kaon_f)\n",
    "    pion_flux.append(pion_f)"
   ]
  },
  {
   "cell_type": "code",
   "execution_count": null,
   "metadata": {},
   "outputs": [],
   "source": [
    "fig = plt.figure(figsize=(6,6))\n",
    "xvals = np.linspace(0.025,4.925,99)\n",
    "#print(xvals)\n",
    "#print (len(xvals))\n",
    "plt.plot(xvals,pion_flux,'bo')\n",
    "plt.plot(xvals,kaon_flux,'ro')\n",
    "plt.yscale('log')\n",
    "plt.xlabel('Energy [GeV]')\n",
    "plt.ylabel('Flux [neutrino/POT/GeV/cm2]')\n",
    "plt.grid(which='both')\n",
    "plt.show()"
   ]
  },
  {
   "cell_type": "code",
   "execution_count": null,
   "metadata": {},
   "outputs": [],
   "source": [
    "# HNL arrival time\n",
    "# based on distance L\n",
    "L = 400 # meters\n",
    "c = 3e8 # m/sec\n",
    "# return in nanoseconds\n",
    "\n",
    "# absolute travel time\n",
    "def HNL_TIME(MASS,KE,DISTANCE=L):\n",
    "    #KE = ENERGY - MASS\n",
    "    E = MASS + KE\n",
    "    #gamma = GAMMA(MASS,KE)\n",
    "    #beta = BETA(gamma)\n",
    "    time = DISTANCE * E / (c * np.sqrt(E**2 - MASS**2))\n",
    "    return 1e9 * (time )\n",
    "\n",
    "# relative travel time w.r.t. neutrino\n",
    "def HNL_DELTATIME(MASS,KE,DISTANCE=L):\n",
    "    #KE = ENERGY - MASS\n",
    "    E = MASS + KE\n",
    "    #gamma = GAMMA(MASS,KE)\n",
    "    #beta = BETA(gamma)\n",
    "    time = DISTANCE * E / (c * np.sqrt(E**2 - MASS**2))\n",
    "    return 1e9 * (time - (DISTANCE/c))\n",
    "#'''\n",
    "\n",
    "HNL_DELTATIME_v = np.vectorize(HNL_DELTATIME)\n",
    "HNL_TIME_v = np.vectorize(HNL_TIME)"
   ]
  },
  {
   "cell_type": "code",
   "execution_count": null,
   "metadata": {},
   "outputs": [],
   "source": [
    "print (HNL_TIME(100,100))\n",
    "print (HNL_DELTATIME(10,500,DISTANCE=500))"
   ]
  },
  {
   "cell_type": "code",
   "execution_count": null,
   "metadata": {},
   "outputs": [],
   "source": [
    "print (HNL_TIME(100,100,DISTANCE=500))"
   ]
  },
  {
   "cell_type": "code",
   "execution_count": null,
   "metadata": {},
   "outputs": [],
   "source": [
    "# sample bucket in beam\n",
    "# return time of bucket mean based on frequency\n",
    "FREQ = 18.936 # ns\n",
    "def BUCKET(N):\n",
    "    return np.random.randint(0,22,N) * FREQ"
   ]
  },
  {
   "cell_type": "code",
   "execution_count": null,
   "metadata": {},
   "outputs": [],
   "source": [
    "# sample RWM\n",
    "SIGMA = 2.5\n",
    "def RWM(sigma,N):\n",
    "    return np.random.normal(0,SIGMA,N)"
   ]
  },
  {
   "cell_type": "code",
   "execution_count": null,
   "metadata": {},
   "outputs": [],
   "source": [
    "# sample energy of new particle from neutrino flux\n",
    "KEMIN = 0. # MeV\n",
    "KEMAX = 500. # MeV\n",
    "def ENERGY(N):\n",
    "    return np.random.uniform(KEMIN,KEMAX,N)\n",
    "\n",
    "MAXFLUXPION = np.max(pion_flux)\n",
    "MAXFLUXKAON = np.max(kaon_flux)\n",
    "BINWIDTH = 0.05 # GeV\n",
    "\n",
    "# returns kinetic Energy [MeV]\n",
    "def ENERGY_PION(MASS,N):\n",
    "    simulated_v = []\n",
    "    while len(simulated_v) < N:\n",
    "        # simulate an energy from 0 to 3 GeV\n",
    "        energy = np.random.uniform(MASS/1e3,2.95)\n",
    "        # find the bin it falls in [50 MeV bins]\n",
    "        energybin = int(energy/BINWIDTH)\n",
    "        # probability of seeing an event in this energy bin\n",
    "        p = np.random.uniform(0,MAXFLUXPION)\n",
    "        #print (' p is ',p)\n",
    "        # is this value smaller than flux prediction at this energy? \n",
    "        # if so, continue to simulate event\n",
    "        if (p < pion_flux[energybin]):\n",
    "            simulated_v.append(energy*1e3-MASS)\n",
    "    return np.array(simulated_v)\n",
    "\n",
    "# returns kinetic Energy [MeV]\n",
    "def ENERGY_KAON(MASS,N):\n",
    "    simulated_v = []\n",
    "    while len(simulated_v) < N:\n",
    "        # simulate an energy from 0 to 5 GeV\n",
    "        energy = np.random.uniform(MASS/1e3,4.95)\n",
    "        # find the bin it falls in [50 MeV bins]\n",
    "        energybin = int(energy/BINWIDTH)\n",
    "        # probability of seeing an event in this energy bin\n",
    "        p = np.random.uniform(0,MAXFLUXKAON)\n",
    "        #print (' p is ',p)\n",
    "        # is this value smaller than flux prediction at this energy? \n",
    "        # if so, continue to simulate event\n",
    "        if (p < kaon_flux[energybin]):\n",
    "            simulated_v.append(energy*1e3-MASS)\n",
    "    return np.array(simulated_v)"
   ]
  },
  {
   "cell_type": "code",
   "execution_count": null,
   "metadata": {},
   "outputs": [],
   "source": [
    "# input are the masses of the meson, HNL, and lepton respectively\n",
    "def RHO(MESON,HNL,LEPTON):\n",
    "    x = (LEPTON/MESON)**2\n",
    "    y = (HNL/MESON)**2\n",
    "    return ((x+y-(x-y)**2)) * np.sqrt(1+x**2+y**2-2*(x+y+x*y)) / (x*(1-x)**2)"
   ]
  },
  {
   "cell_type": "code",
   "execution_count": null,
   "metadata": {},
   "outputs": [],
   "source": [
    "RHO_V = np.vectorize(RHO)"
   ]
  },
  {
   "cell_type": "code",
   "execution_count": null,
   "metadata": {},
   "outputs": [],
   "source": [
    "fig = plt.figure(figsize=(6,6))\n",
    "xvals = np.linspace(1,500,10000) # MeV\n",
    "\n",
    "yvals = RHO_V(PION_MASS,xvals,MUON_MASS)\n",
    "plt.plot(xvals,yvals,label=r'$\\pi^{+} \\rightarrow N + \\mu^{+}$')\n",
    "yvals = RHO_V(PION_MASS,xvals,ELEC_MASS)\n",
    "plt.plot(xvals,yvals,label=r'$\\pi^{+} \\rightarrow N + e^{+}$')\n",
    "\n",
    "yvals = RHO_V(KAON_MASS,xvals,MUON_MASS)\n",
    "plt.plot(xvals,yvals,label=r'$K^{+} \\rightarrow N + \\mu^{+}$')\n",
    "yvals = RHO_V(KAON_MASS,xvals,ELEC_MASS)\n",
    "plt.plot(xvals,yvals,label=r'$K^{+} \\rightarrow N + e^{+}$')\n",
    "\n",
    "plt.axvline(PION_MASS,color='k',linestyle='--',label=r'$\\pi^{+}$ mass')\n",
    "plt.axvline(KAON_MASS,color='b',linestyle='--',label=r'$K^{+}$ mass')\n",
    "plt.yscale('log')\n",
    "plt.xlabel('HNL Mass [MeV]')\n",
    "plt.ylabel('Branching Ratio [A.U.]')\n",
    "plt.legend(loc='best',fontsize=12)\n",
    "plt.ylim([1e-1,2e5])\n",
    "plt.show()\n",
    "print (RHO(135,100,0.5)) # pion, HNL, electron"
   ]
  },
  {
   "cell_type": "code",
   "execution_count": null,
   "metadata": {},
   "outputs": [],
   "source": [
    "pion_v = ENERGY_PION(500,100000)\n",
    "kaon_v = ENERGY_KAON(500,100000)\n",
    "\n",
    "fig = plt.figure(figsize=(6,6))\n",
    "xvals = np.linspace(25,4925,99)\n",
    "#print(xvals)\n",
    "#print (len(xvals))\n",
    "plt.hist(pion_v,bins=xvals,histtype='step',lw=2,color='b')\n",
    "plt.hist(kaon_v,bins=xvals,histtype='step',lw=2,color='r')\n",
    "plt.yscale('log')\n",
    "plt.xlabel('Kinetic Energy [MeV]')\n",
    "plt.ylabel('Flux [neutrino/POT/GeV/cm2]')\n",
    "plt.grid(which='both')\n",
    "plt.show()"
   ]
  },
  {
   "cell_type": "code",
   "execution_count": null,
   "metadata": {},
   "outputs": [],
   "source": [
    "# simulate neutrinos\n",
    "N_nu = 3000000\n",
    "tnu_v = BUCKET(N_nu) + RWM(SIGMA,N_nu)"
   ]
  },
  {
   "cell_type": "markdown",
   "metadata": {},
   "source": [
    "# HNL Properties: Mass, $U_{{\\alpha}N}$"
   ]
  },
  {
   "cell_type": "code",
   "execution_count": null,
   "metadata": {},
   "outputs": [],
   "source": [
    "MASS_V = np.array([50,150]) # MeV\n",
    "UaN = 0.5"
   ]
  },
  {
   "cell_type": "code",
   "execution_count": null,
   "metadata": {},
   "outputs": [],
   "source": [
    "# Calculate Branching ratio w.r.t. Neutrino Flux\n",
    "BR_U = 1. #((UaN**2)/(1-UaN**2))\n",
    "BR_HNL_V = []\n",
    "\n",
    "for MASS in MASS_V:\n",
    "    BR_KIN = 1. #RHO(KAON_MASS,MASS,MUON_MASS)\n",
    "\n",
    "    BR_HNL_V.append( BR_KIN * BR_U )"
   ]
  },
  {
   "cell_type": "code",
   "execution_count": null,
   "metadata": {},
   "outputs": [],
   "source": [
    "# simualte HNLs\n",
    "\n",
    "N_HNL_V = []\n",
    "HNL_KE_v_V = []\n",
    "thnl_v_V = []\n",
    "\n",
    "for i,MASS in enumerate(MASS_V):\n",
    "\n",
    "    N_HNL = int(N_nu * BR_HNL_V[i] )\n",
    "\n",
    "    HNL_KE_v = ENERGY_PION(MASS,N_HNL)\n",
    "    #HNL_KE_v = ENERGY(N_HNL)\n",
    "    # time distribution of HNL relative to neutrinos\n",
    "    thnl_v = BUCKET(N_HNL) + RWM(SIGMA,N_HNL) + HNL_DELTATIME_v(MASS,HNL_KE_v,DISTANCE=400)\n",
    "    # absolute time distribution of HNL\n",
    "    #thnl_v = BUCKET(N_HNL) + RWM(SIGMA,N_HNL) + HNL_TIME_v(MASS,HNL_energy_v)\n",
    "    \n",
    "    HNL_KE_v_V.append(HNL_KE_v)\n",
    "    thnl_v_V.append(thnl_v)"
   ]
  },
  {
   "cell_type": "code",
   "execution_count": null,
   "metadata": {},
   "outputs": [],
   "source": [
    "TMIN = 0\n",
    "TMAX = 3000\n",
    "NBINS = 1*((TMAX-TMIN)+1)\n",
    "\n",
    "BINS = np.linspace(TMIN,TMAX,NBINS)\n",
    "\n",
    "NU_vals,NU_edges = np.histogram(tnu_v,bins=BINS)\n",
    "NU_centers = 0.5*(NU_edges[1:]+NU_edges[:-1])\n",
    "NU_errs = np.sqrt(NU_vals.astype(float))\n",
    "\n",
    "HNL_centers_V = []\n",
    "HNL_vals_V = []\n",
    "HNL_errs_V = []\n",
    "\n",
    "for i,MASS in enumerate(MASS_V):\n",
    "    HNL_vals,HNL_edges = np.histogram(thnl_v_V[i],bins=BINS)\n",
    "    HNL_centers = 0.5*(HNL_edges[1:]+HNL_edges[:-1])\n",
    "    HNL_errs = np.sqrt(HNL_vals.astype(float))\n",
    "                                               \n",
    "    HNL_centers_V.append(HNL_centers)\n",
    "    HNL_vals_V.append(HNL_vals)\n",
    "    HNL_errs_V.append(HNL_errs)"
   ]
  },
  {
   "cell_type": "code",
   "execution_count": null,
   "metadata": {},
   "outputs": [],
   "source": [
    "TMIN = 100\n",
    "TMAX = 200\n",
    "NBINS = 1*((TMAX-TMIN)+1)\n",
    "\n",
    "BINS = np.linspace(TMIN,TMAX,NBINS)\n",
    "\n",
    "NU_vals,NU_edges = np.histogram(tnu_v,bins=BINS)\n",
    "NU_centers = 0.5*(NU_edges[1:]+NU_edges[:-1])\n",
    "NU_errs = np.sqrt(NU_vals.astype(float))\n",
    "\n",
    "fig = plt.figure(figsize=(12,6))\n",
    "plt.errorbar(NU_centers,NU_vals,yerr=NU_errs,fmt='ko',label=r'$\\nu$')\n",
    "#plt.errorbar(HNL_centers,HNL_vals,yerr=HNL_errs,fmt='ro',label=r'HNL w/ Mass of %i MeV'%MASS)\n",
    "plt.legend()\n",
    "plt.yscale('log')\n",
    "plt.xlabel('time [ns]')\n",
    "plt.show()"
   ]
  },
  {
   "cell_type": "code",
   "execution_count": null,
   "metadata": {},
   "outputs": [],
   "source": [
    "# energy spectrum of HNLs\n",
    "fig = plt.figure(figsize=(12,6))\n",
    "for i,MASS in enumerate(MASS_V):\n",
    "    plt.hist(HNL_KE_v_V[i],bins=np.linspace(0,3000,100),histtype='step',lw=2,label='%i MeV'%MASS)\n",
    "plt.xlabel('Enegy [MeV]')\n",
    "plt.legend(loc=1)\n",
    "plt.show()"
   ]
  },
  {
   "cell_type": "code",
   "execution_count": null,
   "metadata": {},
   "outputs": [],
   "source": [
    "fig = plt.figure(figsize=(12,6))\n",
    "for i,MASS in enumerate(MASS_V):\n",
    "    plt.errorbar(HNL_centers_V[i],HNL_vals_V[i],yerr=HNL_errs_V[i],fmt='o',label=r'HNL w/ Mass of %i MeV'%MASS)\n",
    "plt.legend()\n",
    "plt.xlabel('time [ns]')\n",
    "plt.show()"
   ]
  },
  {
   "cell_type": "code",
   "execution_count": null,
   "metadata": {},
   "outputs": [],
   "source": [
    "# calculate fraction above 1.6 us\n",
    "N1 = len(np.where(thnl_v > 1600)[0])\n",
    "Ntot = float(len(thnl_v))\n",
    "print ('frac > 1.6 us = %.03f'%((N1)/Ntot))"
   ]
  },
  {
   "cell_type": "code",
   "execution_count": null,
   "metadata": {},
   "outputs": [],
   "source": [
    "import matplotlib.gridspec as gridspec"
   ]
  },
  {
   "cell_type": "code",
   "execution_count": null,
   "metadata": {},
   "outputs": [],
   "source": [
    "fig = plt.figure(figsize=(18,6))\n",
    "gs = gridspec.GridSpec(1, 3)\n",
    "\n",
    "T1 = plt.subplot(gs[0])\n",
    "\n",
    "T2 = plt.subplot(gs[1])\n",
    "\n",
    "T3 = plt.subplot(gs[2])\n",
    "\n",
    "TMIN = 0\n",
    "TMAX = 100\n",
    "NBINS = 10*((TMAX-TMIN)+1)\n",
    "\n",
    "BINS = np.linspace(TMIN,TMAX,NBINS)\n",
    "\n",
    "NU_vals,NU_edges = np.histogram(tnu_v,bins=BINS)\n",
    "NU_centers = 0.5*(NU_edges[1:]+NU_edges[:-1])\n",
    "NU_errs = np.sqrt(NU_vals.astype(float))\n",
    "T1.errorbar(NU_centers,NU_vals,yerr=NU_errs,fmt='ko',label=r'$\\nu$',markersize=3)\n",
    "\n",
    "for i,MASS in enumerate(MASS_V):\n",
    "    HNL_vals,HNL_edges = np.histogram(thnl_v_V[i],bins=BINS)\n",
    "    HNL_centers = 0.5*(HNL_edges[1:]+HNL_edges[:-1])\n",
    "    HNL_errs = np.sqrt(HNL_vals.astype(float))\n",
    "    T1.errorbar(HNL_centers,HNL_vals,yerr=HNL_errs,fmt='o',label=r'HNL %i MeV'%MASS,markersize=3)\n",
    "\n",
    "TMIN = 200\n",
    "TMAX = 300\n",
    "NBINS = 10*((TMAX-TMIN)+1)\n",
    "\n",
    "BINS = np.linspace(TMIN,TMAX,NBINS)\n",
    "\n",
    "NU_vals,NU_edges = np.histogram(tnu_v,bins=BINS)\n",
    "NU_centers = 0.5*(NU_edges[1:]+NU_edges[:-1])\n",
    "NU_errs = np.sqrt(NU_vals.astype(float))\n",
    "T2.errorbar(NU_centers,NU_vals,yerr=NU_errs,fmt='ko',label=r'$\\nu$',markersize=3)\n",
    "\n",
    "for i,MASS in enumerate(MASS_V):\n",
    "    HNL_vals,HNL_edges = np.histogram(thnl_v_V[i],bins=BINS)\n",
    "    HNL_centers = 0.5*(HNL_edges[1:]+HNL_edges[:-1])\n",
    "    HNL_errs = np.sqrt(HNL_vals.astype(float))\n",
    "    T2.errorbar(HNL_centers,HNL_vals,yerr=HNL_errs,fmt='o',label=r'HNL %i MeV'%MASS,markersize=3)\n",
    "\n",
    "#fig = plt.figure(figsize=(6,6))\n",
    "\n",
    "TMIN = 1500\n",
    "TMAX = 1600\n",
    "NBINS = 10*((TMAX-TMIN)+1)\n",
    "\n",
    "BINS = np.linspace(TMIN,TMAX,NBINS)\n",
    "\n",
    "NU_vals,NU_edges = np.histogram(tnu_v,bins=BINS)\n",
    "NU_centers = 0.5*(NU_edges[1:]+NU_edges[:-1])\n",
    "NU_errs = np.sqrt(NU_vals.astype(float))\n",
    "T3.errorbar(NU_centers,NU_vals,yerr=NU_errs,fmt='ko',label=r'$\\nu$',markersize=3)\n",
    "\n",
    "for i,MASS in enumerate(MASS_V):\n",
    "    HNL_vals,HNL_edges = np.histogram(thnl_v_V[i],bins=BINS)\n",
    "    HNL_centers = 0.5*(HNL_edges[1:]+HNL_edges[:-1])\n",
    "    HNL_errs = np.sqrt(HNL_vals.astype(float))\n",
    "    T3.errorbar(HNL_centers,HNL_vals,yerr=HNL_errs,fmt='o',label=r'%i MeV HNL'%MASS,markersize=3)\n",
    "\n",
    "#fig = plt.figure(figsize=(6,6))\n",
    "\n",
    "T2.legend(framealpha=1,loc=1,fontsize=14)\n",
    "T2.set_xlabel('arrival time [ns]')\n",
    "#plt.xlabel('time [ns]')\n",
    "plt.show()"
   ]
  },
  {
   "cell_type": "code",
   "execution_count": null,
   "metadata": {},
   "outputs": [],
   "source": [
    "fig = plt.figure(figsize=(12,6))\n",
    "\n",
    "TMIN = 200\n",
    "TMAX = 295\n",
    "NBINS = 10*((TMAX-TMIN)+1)\n",
    "\n",
    "BINS = np.linspace(TMIN,TMAX,NBINS)\n",
    "\n",
    "NU_vals,NU_edges = np.histogram(tnu_v,bins=BINS)\n",
    "NU_centers = 0.5*(NU_edges[1:]+NU_edges[:-1])\n",
    "NU_errs = np.sqrt(NU_vals.astype(float))\n",
    "plt.errorbar(NU_centers,NU_vals,yerr=NU_errs,fmt='bo',label=r'$\\nu$ from BNB',markersize=8)\n",
    "\n",
    "COLORS = ['r','orange']\n",
    "\n",
    "for i,MASS in enumerate(MASS_V):\n",
    "    HNL_vals,HNL_edges = np.histogram(thnl_v_V[i],bins=BINS)\n",
    "    HNL_centers = 0.5*(HNL_edges[1:]+HNL_edges[:-1])\n",
    "    HNL_errs = np.sqrt(HNL_vals.astype(float))\n",
    "    plt.errorbar(HNL_centers,HNL_vals,yerr=HNL_errs,fmt='o',color=COLORS[i],\\\n",
    "                 label=r'HNL %i MeV'%MASS,markersize=8)\n",
    "\n",
    "\n",
    "plt.gca().get_yaxis().set_ticks([])\n",
    "plt.legend(framealpha=1,loc=1,fontsize=28)\n",
    "plt.xlabel('arrival time [ns]',fontsize=28)\n",
    "plt.ylim([0,2750])\n",
    "plt.xlim([200,258])\n",
    "#plt.title('HNL arrival time at MicroBooNE from BNB')\n",
    "plt.tight_layout()\n",
    "plt.savefig('HNLarrivalexample.pdf',dpi=250)\n",
    "plt.show()"
   ]
  }
 ],
 "metadata": {
  "kernelspec": {
   "display_name": "Python 3 (ipykernel)",
   "language": "python",
   "name": "python3"
  },
  "language_info": {
   "codemirror_mode": {
    "name": "ipython",
    "version": 3
   },
   "file_extension": ".py",
   "mimetype": "text/x-python",
   "name": "python",
   "nbconvert_exporter": "python",
   "pygments_lexer": "ipython3",
   "version": "3.7.9"
  }
 },
 "nbformat": 4,
 "nbformat_minor": 2
}
